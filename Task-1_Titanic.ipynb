{
 "cells": [
  {
   "cell_type": "code",
   "execution_count": 32,
   "metadata": {},
   "outputs": [],
   "source": [
    "import numpy as np\n",
    "import pandas as pd\n",
    "from matplotlib import pyplot as plt\n",
    "import seaborn as sns"
   ]
  },
  {
   "cell_type": "code",
   "execution_count": null,
   "metadata": {},
   "outputs": [],
   "source": [
    "data = pd.read_csv('Titanic-Dataset.csv')\n",
    "df = pd.DataFrame(data)\n",
    "df"
   ]
  },
  {
   "cell_type": "code",
   "execution_count": null,
   "metadata": {},
   "outputs": [],
   "source": [
    "# Define the new order of columns\n",
    "new_order = ['PassengerId', 'Name', 'Sex', 'Age', 'Survived', 'Pclass', 'SibSp', 'Parch', 'Ticket', 'Fare', 'Cabin', 'Embarked']\n",
    "\n",
    "# Rearrange the columns\n",
    "df = df[new_order]\n",
    "\n",
    "# Save the rearranged DataFrame to a new CSV file \n",
    "df.to_csv('train.csv', index=False)\n",
    "\n",
    "df"
   ]
  },
  {
   "cell_type": "code",
   "execution_count": null,
   "metadata": {},
   "outputs": [],
   "source": [
    "df[(df.Age>0.0)&(df.Age<1.0)]"
   ]
  },
  {
   "cell_type": "code",
   "execution_count": null,
   "metadata": {},
   "outputs": [],
   "source": [
    "df.sort_values('Age')"
   ]
  },
  {
   "cell_type": "code",
   "execution_count": null,
   "metadata": {},
   "outputs": [],
   "source": [
    "df1 = df.dropna()\n",
    "df1.sort_values('Age')\n",
    "df1"
   ]
  },
  {
   "cell_type": "code",
   "execution_count": null,
   "metadata": {},
   "outputs": [],
   "source": [
    "df2 = pd.DataFrame(data)\n",
    "df2"
   ]
  },
  {
   "cell_type": "code",
   "execution_count": null,
   "metadata": {},
   "outputs": [],
   "source": [
    "#survived\n",
    "B = df2.groupby('Survived')\n",
    "\n",
    "B.get_group(1)"
   ]
  },
  {
   "cell_type": "code",
   "execution_count": null,
   "metadata": {},
   "outputs": [],
   "source": [
    "#20-30 years range survivals\n",
    "K = df2[(df2.Age>20)&(df2.Age<30)]\n",
    "L = K.groupby('Survived')\n",
    "L.get_group(1)"
   ]
  },
  {
   "cell_type": "code",
   "execution_count": null,
   "metadata": {},
   "outputs": [],
   "source": [
    "#50-60 years surviavls\n",
    "K = df2[(df2.Age>50)&(df2.Age<60)]\n",
    "L = K.groupby('Survived')\n",
    "L.get_group(1)"
   ]
  },
  {
   "cell_type": "code",
   "execution_count": null,
   "metadata": {},
   "outputs": [],
   "source": [
    "#20-30 years deaths\n",
    "K = df2[(df2.Age>20)&(df2.Age<30)]\n",
    "L = K.groupby('Survived')\n",
    "L.get_group(0)"
   ]
  },
  {
   "cell_type": "code",
   "execution_count": null,
   "metadata": {},
   "outputs": [],
   "source": [
    "#50-60 age years deaths\n",
    "K = df2[(df2.Age>50)&(df2.Age<60)]\n",
    "L = K.groupby('Survived')\n",
    "L.get_group(0)"
   ]
  },
  {
   "cell_type": "code",
   "execution_count": null,
   "metadata": {},
   "outputs": [],
   "source": [
    "#Total death of male:\n",
    "K= df2.groupby('Sex')\n",
    "K = K.get_group('male')\n",
    "L = K.groupby('Survived')\n",
    "L.get_group(0)"
   ]
  },
  {
   "cell_type": "code",
   "execution_count": null,
   "metadata": {},
   "outputs": [],
   "source": [
    "#Total death of females\n",
    "K= df2.groupby('Sex')\n",
    "K = K.get_group('female')\n",
    "L = K.groupby('Survived')\n",
    "L.get_group(0)"
   ]
  },
  {
   "cell_type": "code",
   "execution_count": null,
   "metadata": {},
   "outputs": [],
   "source": [
    "#40-50 years old death of males\n",
    "K = df2[(df2.Age>40)&(df2.Age<50)]\n",
    "J = K.groupby('Sex')\n",
    "J = J.get_group('male')\n",
    "L = J.groupby('Survived')\n",
    "L.get_group(0)"
   ]
  },
  {
   "cell_type": "code",
   "execution_count": null,
   "metadata": {},
   "outputs": [],
   "source": [
    "#1st class passenger deaths count\n",
    "u = df2.groupby('Pclass')\n",
    "u = u.get_group(1)\n",
    "i = u.groupby('Survived')\n",
    "len(i.get_group(0))"
   ]
  },
  {
   "cell_type": "code",
   "execution_count": null,
   "metadata": {},
   "outputs": [],
   "source": [
    "#total survivors and deaths \n",
    "sns.countplot(x='Survived', data=df2)"
   ]
  },
  {
   "cell_type": "code",
   "execution_count": null,
   "metadata": {},
   "outputs": [],
   "source": [
    "#now let's see the survivors and deaths based on pclass\n",
    "sns.countplot(x='Survived', hue='Pclass', data=df2)"
   ]
  },
  {
   "cell_type": "code",
   "execution_count": null,
   "metadata": {},
   "outputs": [],
   "source": [
    "#now let's see for male and female survivors\n",
    "sns.countplot(x='Sex', hue='Survived', data=df2)"
   ]
  },
  {
   "cell_type": "code",
   "execution_count": null,
   "metadata": {},
   "outputs": [],
   "source": [
    "# Scatter plot for survival by age\n",
    "plt.scatter(df2['Age'], df2['Survived'], alpha=0.4,c=df2['Survived'],cmap='coolwarm')\n",
    "plt.title('Survival by Age')\n",
    "plt.xlabel('Age')\n",
    "plt.ylabel('Survival')\n",
    "plt.show()"
   ]
  },
  {
   "cell_type": "code",
   "execution_count": null,
   "metadata": {},
   "outputs": [],
   "source": [
    "#survived passengers numbers\n",
    "survived = df2[(df2['Survived'] == 1)].count()\n",
    "survived.Survived"
   ]
  },
  {
   "cell_type": "code",
   "execution_count": null,
   "metadata": {},
   "outputs": [],
   "source": [
    "#male survival rate\n",
    "male_survived = data[(data['Survived'] == 1) & (data['Sex'] == 'male')].count()\n",
    "male_survived_rate =  male_survived.Survived / data.shape[0]\n",
    "male_survived_rate * 100"
   ]
  },
  {
   "cell_type": "code",
   "execution_count": null,
   "metadata": {},
   "outputs": [],
   "source": [
    "#female survival rate\n",
    "female_survived = data[(data['Survived'] == 1) & (data['Sex'] == 'female')].count()\n",
    "female_survived_rate =  female_survived.Survived / data.shape[0]\n",
    "female_survived_rate * 100"
   ]
  },
  {
   "cell_type": "code",
   "execution_count": null,
   "metadata": {},
   "outputs": [],
   "source": [
    "df1 = df.groupby('Survived')\n",
    "df2 = df1.get_group(1)\n",
    "df2[(df2.Age == df2.Age.min())]"
   ]
  },
  {
   "cell_type": "code",
   "execution_count": null,
   "metadata": {},
   "outputs": [],
   "source": [
    "data.Embarked.unique()"
   ]
  },
  {
   "cell_type": "code",
   "execution_count": null,
   "metadata": {},
   "outputs": [],
   "source": [
    "(data[(data.Embarked == 'S') & (data.Survived == 1)].count().Survived / survived.Survived) * 100"
   ]
  },
  {
   "cell_type": "code",
   "execution_count": null,
   "metadata": {},
   "outputs": [],
   "source": [
    "(data[(data.Embarked == 'C') & (data.Survived == 1)].count().Survived / survived.Survived) * 100"
   ]
  },
  {
   "cell_type": "code",
   "execution_count": null,
   "metadata": {},
   "outputs": [],
   "source": [
    "(data[(data.Embarked == 'Q') & (data.Survived == 1)].count().Survived / survived.Survived) * 100"
   ]
  }
 ],
 "metadata": {
  "kernelspec": {
   "display_name": "Python 3",
   "language": "python",
   "name": "python3"
  },
  "language_info": {
   "codemirror_mode": {
    "name": "ipython",
    "version": 3
   },
   "file_extension": ".py",
   "mimetype": "text/x-python",
   "name": "python",
   "nbconvert_exporter": "python",
   "pygments_lexer": "ipython3",
   "version": "3.12.3"
  }
 },
 "nbformat": 4,
 "nbformat_minor": 2
}
